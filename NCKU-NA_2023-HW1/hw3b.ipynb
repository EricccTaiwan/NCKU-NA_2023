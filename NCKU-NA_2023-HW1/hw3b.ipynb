{
 "cells": [
  {
   "cell_type": "code",
   "execution_count": 153,
   "metadata": {},
   "outputs": [
    {
     "name": "stdout",
     "output_type": "stream",
     "text": [
      "solution= -6.312771876559612 tol= 1.459900449418683e-07\n",
      "solution= 2.3127726392045798 tol= 9.086349193054843e-07\n"
     ]
    }
   ],
   "source": [
    "import math    #3_1\n",
    "\n",
    "def f(x):                                  \n",
    "    return x**2 + 4*x - 14.6\n",
    "\n",
    "def newton(xa, tol=1e-5, N0=200): \n",
    "    x0 = xa\n",
    "    for i in range(1, N0):\n",
    "        f = x0**2 + 4*x0 - 14.6\n",
    "        fd = 2*x0 + 4    \n",
    "        x = x0 - f/fd\n",
    "        if abs(x - x0) < tol:\n",
    "            break\n",
    "        x0 = x\n",
    "    return x0, abs(x - x0)\n",
    "\n",
    "x1 = -10.5 #起點\n",
    "x2 = 10.5  #終點\n",
    "n = 11    #分段\n",
    "dx = (x2 - x1)/(n - 1)  #算delta x\n",
    "ans =[]             #全部解答的list\n",
    "\n",
    "results = {}\n",
    "for i in range(1, n):\n",
    "    xa = x1 + (i - 1)*dx \n",
    "    x0, tol = newton(xa)\n",
    "    results[x0] = tol\n",
    "    ans.append(x0)  \n",
    "\n",
    "seen_ints = {}      #建立一個dict\n",
    "final_result = []   #答案的list\n",
    "for num in ans:\n",
    "    int_part = int(num)   #取整數部分\n",
    "    if int_part not in seen_ints:   #如果int_part是新的數字\n",
    "        final_result.append(num)    #增加進final_result\n",
    "        seen_ints[int_part] = True  #看過的整數標示為T\n",
    "for i in range(len(final_result)):  #用key叫出dict的val\n",
    "    print('solution=',final_result[i],'tol=',results[final_result[i]])\n"
   ]
  },
  {
   "cell_type": "code",
   "execution_count": 151,
   "metadata": {},
   "outputs": [
    {
     "name": "stdout",
     "output_type": "stream",
     "text": [
      "solution= -2.460000006881508 tol= 6.8815082521211934e-09\n",
      "solution= 0.9999996492693447 tol= 3.507306498562457e-07\n",
      "solution= 4.000000009330488 tol= 9.330488381920077e-09\n"
     ]
    }
   ],
   "source": [
    "import math    #3_2\n",
    "\n",
    "def f(x):                                  \n",
    "    return (x-1)*(x-4)*(x+2.46)\n",
    "\n",
    "def newton(xa, tol=1e-5, N0=200): \n",
    "    x0 = xa\n",
    "    for i in range(1, N0):\n",
    "        f = (x0-1)*(x0-4)*(x0+2.46)\n",
    "        fd = 3*x0**2 - 5.08*x0 -8.3   \n",
    "        x = x0 - f/fd\n",
    "        if abs(x - x0) < tol:\n",
    "            break\n",
    "        x0 = x\n",
    "    return x0, abs(x - x0)\n",
    "\n",
    "x1 = -10.5 #起點\n",
    "x2 = 10.5  #終點\n",
    "n = 11    #分段\n",
    "dx = (x2 - x1)/(n - 1)  #算delta x\n",
    "ans =[]\n",
    "\n",
    "results = {}\n",
    "for i in range(1, n):\n",
    "    xa = x1 + (i - 1)*dx \n",
    "    x0, tol = newton(xa)\n",
    "    results[x0] = tol\n",
    "    ans.append(x0)\n",
    "\n",
    "seen_ints = {}\n",
    "final_result = []\n",
    "for num in ans:\n",
    "    # Get integer part of number rounded down\n",
    "    int_part = int(num)\n",
    "    if int_part not in seen_ints:\n",
    "        # Add number to result if integer part hasn't been seen yet\n",
    "        final_result.append(num)\n",
    "        # Mark integer part as seen\n",
    "        seen_ints[int_part] = True\n",
    "\n",
    "for i in range(len(final_result)):\n",
    "    print('solution=',final_result[i],'tol=',results[final_result[i]])\n"
   ]
  }
 ],
 "metadata": {
  "kernelspec": {
   "display_name": "Python 3",
   "language": "python",
   "name": "python3"
  },
  "language_info": {
   "codemirror_mode": {
    "name": "ipython",
    "version": 3
   },
   "file_extension": ".py",
   "mimetype": "text/x-python",
   "name": "python",
   "nbconvert_exporter": "python",
   "pygments_lexer": "ipython3",
   "version": "3.9.13"
  },
  "orig_nbformat": 4
 },
 "nbformat": 4,
 "nbformat_minor": 2
}
