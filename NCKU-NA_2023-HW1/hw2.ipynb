{
 "cells": [
  {
   "cell_type": "code",
   "execution_count": 33,
   "metadata": {},
   "outputs": [
    {
     "name": "stdout",
     "output_type": "stream",
     "text": [
      "no root between -10.0 and -8.0\n",
      "have root between -8.0 and -6.0\n",
      "solution: -6.312776158228896 tol: 4.427657058769796e-06\n",
      "no root between -6.0 and -4.0\n",
      "no root between -4.0 and -2.0\n",
      "no root between -2.0 and 0.0\n",
      "no root between 0.0 and 2.0\n",
      "have root between 2.0 and 4.0\n",
      "solution: 2.31277173060421 tol: 3.4645175617242785e-11\n",
      "no root between 4.0 and 6.0\n",
      "no root between 6.0 and 8.0\n",
      "no root between 8.0 and 10.0\n"
     ]
    }
   ],
   "source": [
    "import math\n",
    "def f(x):                                  \n",
    "    return x**2 + 4*x - 14.6  #eq3a_1\n",
    "def newton(xa,tol = 1e-5,N0=200): \n",
    "    x0=xa\n",
    "    for i in range(1,N0):\n",
    "        f = x0**2 + 4*x0 - 14.6\n",
    "        fd = 2*x0 + 4    \n",
    "        x = x0-f/fd\n",
    "        if (abs(x-x0) < tol):\n",
    "            break;\n",
    "        i = i+1\n",
    "        x0 = x\n",
    "    print(\"solution:\",x0,'tol:',abs(x-x0))\n",
    "      \n",
    "x1=-10 \n",
    "x2=10  \n",
    "n=11    \n",
    "dx=(x2-x1)/(n-1)  #算delta x\n",
    "\n",
    "for i in range(1,n):\n",
    "    xa=x1+(i-1)*dx\n",
    "    xb=x1+i*dx\n",
    "    if f(xa)*f(xb)>0:\n",
    "        print('no root between',xa,'and',xb)\n",
    "    if f(xa)==0:\n",
    "        print('root=',xa,'error=',f(xa))   \n",
    "    if f(xa)*f(xb)<0:\n",
    "        print('have root between',xa,'and',xb)\n",
    "        newton(xa)    \n",
    "\n",
    "\n"
   ]
  },
  {
   "cell_type": "code",
   "execution_count": 36,
   "metadata": {},
   "outputs": [
    {
     "name": "stdout",
     "output_type": "stream",
     "text": [
      "no root between -10.0 and -8.0\n",
      "no root between -8.0 and -6.0\n",
      "no root between -6.0 and -4.0\n",
      "have root between -4.0 and -2.0\n",
      "solution: -2.4600043823770834 tol: 4.382368560040817e-06\n",
      "no root between -2.0 and 0.0\n",
      "have root between 0.0 and 2.0\n",
      "solution: 0.9999996492693447 tol: 3.507306498562457e-07\n",
      "root= 4.0 error= 0.0\n",
      "no root between 6.0 and 8.0\n",
      "no root between 8.0 and 10.0\n"
     ]
    }
   ],
   "source": [
    "import math\n",
    "def f(x):                                  \n",
    "    return (x-1)*(x-4)*(x+2.46)  #3_2\n",
    "def newton(xa,tol = 1e-5,N0=200): \n",
    "    x0=xa\n",
    "    for i in range(1,N0):\n",
    "        f = (x0-1)*(x0-4)*(x0+2.46)\n",
    "        fd = 3*x0**2 - 5.08*x0 -8.3   \n",
    "        x = x0-f/fd\n",
    "        if (abs(x-x0) < tol):\n",
    "            break;\n",
    "        i = i+1\n",
    "        x0 = x\n",
    "    print(\"solution:\",x0,'tol:',abs(x-x0))\n",
    "      \n",
    "x1=-10 \n",
    "x2=10  \n",
    "n=11    \n",
    "dx=(x2-x1)/(n-1)  #算delta x\n",
    "\n",
    "for i in range(1,n):\n",
    "    xa=x1+(i-1)*dx\n",
    "    xb=x1+i*dx\n",
    "    if f(xa)*f(xb)>0:\n",
    "        print('no root between',xa,'and',xb)\n",
    "    if f(xa)==0:\n",
    "        print('root=',xa,'error=',f(xa))   \n",
    "    if f(xa)*f(xb)<0:\n",
    "        print('have root between',xa,'and',xb)\n",
    "        newton(xa)   \n",
    "\n"
   ]
  },
  {
   "cell_type": "code",
   "execution_count": 41,
   "metadata": {},
   "outputs": [
    {
     "name": "stdout",
     "output_type": "stream",
     "text": [
      "no root between -5.5 and -4.4\n",
      "no root between -4.4 and -3.3\n",
      "no root between -3.3 and -2.1999999999999997\n",
      "no root between -2.1999999999999997 and -1.0999999999999996\n",
      "root= 0.0 error= 0.0\n",
      "no root between 1.1000000000000005 and 2.200000000000001\n",
      "no root between 2.200000000000001 and 3.3000000000000007\n",
      "no root between 3.3000000000000007 and 4.4\n",
      "no root between 4.4 and 5.5\n"
     ]
    }
   ],
   "source": [
    "import math       ###2-2\n",
    "def f(x):                                  \n",
    "    return math.exp(x)-x-1  \n",
    "def newton(xa,tol = 1e-5,N0=200): \n",
    "    x0=xa\n",
    "    for i in range(1,N0):\n",
    "        f = math.exp(x0)-x0-1    #eq2_1\n",
    "        fd = math.exp(x0)-1       \n",
    "        x = x0-f/fd\n",
    "        if (abs(x-x0) < tol):\n",
    "            break;\n",
    "        i = i+1\n",
    "        x0 = x\n",
    "    print(\"solution:\",x0,'tol:',abs(x-x0))\n",
    "      \n",
    "x1=-5.5 \n",
    "x2=5.5\n",
    "n=11    \n",
    "dx=(x2-x1)/(n-1)  #算delta x\n",
    "\n",
    "for i in range(1,n):\n",
    "    xa=x1+(i-1)*dx\n",
    "    xb=x1+i*dx\n",
    "    if f(xa)*f(xb)>0:\n",
    "        print('no root between',xa,'and',xb)\n",
    "    if f(xa)==0:\n",
    "        print('root=',xa,'error=',f(xa))   \n",
    "    if f(xa)*f(xb)<0:\n",
    "        print('have root between',xa,'and',xb)\n",
    "        newton(xa)   \n",
    "  \n",
    "\n",
    "\n"
   ]
  },
  {
   "cell_type": "code",
   "execution_count": 40,
   "metadata": {},
   "outputs": [
    {
     "name": "stdout",
     "output_type": "stream",
     "text": [
      "no root between -5.5 and -4.4\n",
      "no root between -4.4 and -3.3\n",
      "no root between -3.3 and -2.1999999999999997\n",
      "no root between -2.1999999999999997 and -1.0999999999999996\n",
      "no root between -1.0999999999999996 and 0.0\n",
      "no root between 0.0 and 1.1000000000000005\n",
      "have root between 1.1000000000000005 and 2.200000000000001\n",
      "solution: 1.612819903974884 tol: 9.567118208764214e-10\n",
      "no root between 2.200000000000001 and 3.3000000000000007\n",
      "no root between 3.3000000000000007 and 4.4\n",
      "no root between 4.4 and 5.5\n"
     ]
    }
   ],
   "source": [
    "import math\n",
    "def f(x):                                  \n",
    "    return x**3 + 4.0*x**2 - 14.6 \n",
    "def newton(xa,tol = 1e-5,N0=200): \n",
    "    x0=xa\n",
    "    for i in range(1,N0):\n",
    "        f = x0**3 + 4.0*x0**2 - 14.6  #eq2_1\n",
    "        fd = 3*x0**2 + 8*x0        \n",
    "        x = x0-f/fd\n",
    "        if (abs(x-x0) < tol):\n",
    "            break;\n",
    "        i = i+1\n",
    "        x0 = x\n",
    "    print(\"solution:\",x0,'tol:',abs(x-x0))\n",
    "      \n",
    "x1=-5.5 \n",
    "x2=5.5\n",
    "n=11    \n",
    "dx=(x2-x1)/(n-1)  #算delta x\n",
    "\n",
    "for i in range(1,n):\n",
    "    xa=x1+(i-1)*dx\n",
    "    xb=x1+i*dx\n",
    "    if f(xa)*f(xb)>0:\n",
    "        print('no root between',xa,'and',xb)\n",
    "    if f(xa)==0:\n",
    "        print('root=',xa,'error=',f(xa))   \n",
    "    if f(xa)*f(xb)<0:\n",
    "        print('have root between',xa,'and',xb)\n",
    "        newton(xa)   \n",
    "  \n",
    "\n",
    "\n"
   ]
  }
 ],
 "metadata": {
  "kernelspec": {
   "display_name": "Python 3",
   "language": "python",
   "name": "python3"
  },
  "language_info": {
   "codemirror_mode": {
    "name": "ipython",
    "version": 3
   },
   "file_extension": ".py",
   "mimetype": "text/x-python",
   "name": "python",
   "nbconvert_exporter": "python",
   "pygments_lexer": "ipython3",
   "version": "3.9.13"
  },
  "orig_nbformat": 4
 },
 "nbformat": 4,
 "nbformat_minor": 2
}
